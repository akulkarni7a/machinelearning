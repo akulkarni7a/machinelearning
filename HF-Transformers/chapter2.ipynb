{
 "cells": [
  {
   "cell_type": "code",
   "execution_count": 52,
   "metadata": {},
   "outputs": [],
   "source": [
    "from datasets import list_datasets, load_dataset\n",
    "import pandas as pd\n",
    "import matplotlib.pyplot as plt\n",
    "import torch\n",
    "import torch.nn.functional as F\n",
    "from transformers import AutoTokenizer, AutoModel\n"
   ]
  },
  {
   "cell_type": "code",
   "execution_count": 5,
   "metadata": {},
   "outputs": [],
   "source": [
    "all_datasets = list_datasets()"
   ]
  },
  {
   "cell_type": "code",
   "execution_count": 8,
   "metadata": {},
   "outputs": [
    {
     "name": "stderr",
     "output_type": "stream",
     "text": [
      "/Users/anirudhkulkarni/.local/share/virtualenvs/anirudhkulkarni-_yqJQTez/lib/python3.10/site-packages/datasets/load.py:1429: FutureWarning: The repository for emotion contains custom code which must be executed to correctly load the dataset. You can inspect the repository content at https://hf.co/datasets/emotion\n",
      "You can avoid this message in future by passing the argument `trust_remote_code=True`.\n",
      "Passing `trust_remote_code=True` will be mandatory to load this dataset from the next major release of `datasets`.\n",
      "  warnings.warn(\n"
     ]
    },
    {
     "data": {
      "application/vnd.jupyter.widget-view+json": {
       "model_id": "8879bb90588b48a28db89a11a01e27d7",
       "version_major": 2,
       "version_minor": 0
      },
      "text/plain": [
       "Downloading builder script:   0%|          | 0.00/3.97k [00:00<?, ?B/s]"
      ]
     },
     "metadata": {},
     "output_type": "display_data"
    },
    {
     "data": {
      "application/vnd.jupyter.widget-view+json": {
       "model_id": "f01956c4eded4e6a88d7b0a7f1762509",
       "version_major": 2,
       "version_minor": 0
      },
      "text/plain": [
       "Downloading metadata:   0%|          | 0.00/3.28k [00:00<?, ?B/s]"
      ]
     },
     "metadata": {},
     "output_type": "display_data"
    },
    {
     "data": {
      "application/vnd.jupyter.widget-view+json": {
       "model_id": "b1ccc82c12be48b3b054b28823f241ee",
       "version_major": 2,
       "version_minor": 0
      },
      "text/plain": [
       "Downloading readme:   0%|          | 0.00/8.78k [00:00<?, ?B/s]"
      ]
     },
     "metadata": {},
     "output_type": "display_data"
    },
    {
     "data": {
      "application/vnd.jupyter.widget-view+json": {
       "model_id": "1e7ac28012ef4e09b1b2b8bdcdcb8f84",
       "version_major": 2,
       "version_minor": 0
      },
      "text/plain": [
       "Downloading data:   0%|          | 0.00/592k [00:00<?, ?B/s]"
      ]
     },
     "metadata": {},
     "output_type": "display_data"
    },
    {
     "data": {
      "application/vnd.jupyter.widget-view+json": {
       "model_id": "8584b566ce4748bf96f3c7cd9dfa860a",
       "version_major": 2,
       "version_minor": 0
      },
      "text/plain": [
       "Downloading data:   0%|          | 0.00/74.0k [00:00<?, ?B/s]"
      ]
     },
     "metadata": {},
     "output_type": "display_data"
    },
    {
     "data": {
      "application/vnd.jupyter.widget-view+json": {
       "model_id": "021ac6540965471793e3c3934472ace0",
       "version_major": 2,
       "version_minor": 0
      },
      "text/plain": [
       "Downloading data:   0%|          | 0.00/74.9k [00:00<?, ?B/s]"
      ]
     },
     "metadata": {},
     "output_type": "display_data"
    },
    {
     "data": {
      "application/vnd.jupyter.widget-view+json": {
       "model_id": "2af25ea2b5c345c5b556cbe9947af7d2",
       "version_major": 2,
       "version_minor": 0
      },
      "text/plain": [
       "Generating train split:   0%|          | 0/16000 [00:00<?, ? examples/s]"
      ]
     },
     "metadata": {},
     "output_type": "display_data"
    },
    {
     "data": {
      "application/vnd.jupyter.widget-view+json": {
       "model_id": "bf3c68c3d5a14076a99a1399f3fbc110",
       "version_major": 2,
       "version_minor": 0
      },
      "text/plain": [
       "Generating validation split:   0%|          | 0/2000 [00:00<?, ? examples/s]"
      ]
     },
     "metadata": {},
     "output_type": "display_data"
    },
    {
     "data": {
      "application/vnd.jupyter.widget-view+json": {
       "model_id": "ebc125c991fb4ef596945a936771c09c",
       "version_major": 2,
       "version_minor": 0
      },
      "text/plain": [
       "Generating test split:   0%|          | 0/2000 [00:00<?, ? examples/s]"
      ]
     },
     "metadata": {},
     "output_type": "display_data"
    }
   ],
   "source": [
    "emotions = load_dataset(\"emotion\")"
   ]
  },
  {
   "cell_type": "code",
   "execution_count": 9,
   "metadata": {},
   "outputs": [
    {
     "data": {
      "text/plain": [
       "DatasetDict({\n",
       "    train: Dataset({\n",
       "        features: ['text', 'label'],\n",
       "        num_rows: 16000\n",
       "    })\n",
       "    validation: Dataset({\n",
       "        features: ['text', 'label'],\n",
       "        num_rows: 2000\n",
       "    })\n",
       "    test: Dataset({\n",
       "        features: ['text', 'label'],\n",
       "        num_rows: 2000\n",
       "    })\n",
       "})"
      ]
     },
     "execution_count": 9,
     "metadata": {},
     "output_type": "execute_result"
    }
   ],
   "source": [
    "emotions"
   ]
  },
  {
   "cell_type": "code",
   "execution_count": 10,
   "metadata": {},
   "outputs": [],
   "source": [
    "train_ds = emotions[\"train\"]"
   ]
  },
  {
   "cell_type": "code",
   "execution_count": 12,
   "metadata": {},
   "outputs": [
    {
     "data": {
      "text/plain": [
       "{'text': 'i didnt feel humiliated', 'label': 0}"
      ]
     },
     "execution_count": 12,
     "metadata": {},
     "output_type": "execute_result"
    }
   ],
   "source": [
    "train_ds[0]"
   ]
  },
  {
   "cell_type": "code",
   "execution_count": 13,
   "metadata": {},
   "outputs": [
    {
     "data": {
      "text/plain": [
       "{'text': Value(dtype='string', id=None),\n",
       " 'label': ClassLabel(names=['sadness', 'joy', 'love', 'anger', 'fear', 'surprise'], id=None)}"
      ]
     },
     "execution_count": 13,
     "metadata": {},
     "output_type": "execute_result"
    }
   ],
   "source": [
    "train_ds.features"
   ]
  },
  {
   "cell_type": "code",
   "execution_count": 15,
   "metadata": {},
   "outputs": [
    {
     "data": {
      "text/html": [
       "<div>\n",
       "<style scoped>\n",
       "    .dataframe tbody tr th:only-of-type {\n",
       "        vertical-align: middle;\n",
       "    }\n",
       "\n",
       "    .dataframe tbody tr th {\n",
       "        vertical-align: top;\n",
       "    }\n",
       "\n",
       "    .dataframe thead th {\n",
       "        text-align: right;\n",
       "    }\n",
       "</style>\n",
       "<table border=\"1\" class=\"dataframe\">\n",
       "  <thead>\n",
       "    <tr style=\"text-align: right;\">\n",
       "      <th></th>\n",
       "      <th>text</th>\n",
       "      <th>label</th>\n",
       "    </tr>\n",
       "  </thead>\n",
       "  <tbody>\n",
       "    <tr>\n",
       "      <th>0</th>\n",
       "      <td>i didnt feel humiliated</td>\n",
       "      <td>0</td>\n",
       "    </tr>\n",
       "    <tr>\n",
       "      <th>1</th>\n",
       "      <td>i can go from feeling so hopeless to so damned...</td>\n",
       "      <td>0</td>\n",
       "    </tr>\n",
       "    <tr>\n",
       "      <th>2</th>\n",
       "      <td>im grabbing a minute to post i feel greedy wrong</td>\n",
       "      <td>3</td>\n",
       "    </tr>\n",
       "    <tr>\n",
       "      <th>3</th>\n",
       "      <td>i am ever feeling nostalgic about the fireplac...</td>\n",
       "      <td>2</td>\n",
       "    </tr>\n",
       "    <tr>\n",
       "      <th>4</th>\n",
       "      <td>i am feeling grouchy</td>\n",
       "      <td>3</td>\n",
       "    </tr>\n",
       "  </tbody>\n",
       "</table>\n",
       "</div>"
      ],
      "text/plain": [
       "                                                text  label\n",
       "0                            i didnt feel humiliated      0\n",
       "1  i can go from feeling so hopeless to so damned...      0\n",
       "2   im grabbing a minute to post i feel greedy wrong      3\n",
       "3  i am ever feeling nostalgic about the fireplac...      2\n",
       "4                               i am feeling grouchy      3"
      ]
     },
     "execution_count": 15,
     "metadata": {},
     "output_type": "execute_result"
    }
   ],
   "source": [
    "emotions.set_format(type=\"pandas\")\n",
    "df = emotions[\"train\"][:]\n",
    "df.head()"
   ]
  },
  {
   "cell_type": "code",
   "execution_count": 16,
   "metadata": {},
   "outputs": [],
   "source": [
    "def label_int2str(row):\n",
    "    return emotions[\"train\"].features[\"label\"].int2str(row)\n",
    "\n",
    "df[\"label_name\"] = df[\"label\"].apply(label_int2str)"
   ]
  },
  {
   "cell_type": "code",
   "execution_count": 17,
   "metadata": {},
   "outputs": [
    {
     "data": {
      "text/html": [
       "<div>\n",
       "<style scoped>\n",
       "    .dataframe tbody tr th:only-of-type {\n",
       "        vertical-align: middle;\n",
       "    }\n",
       "\n",
       "    .dataframe tbody tr th {\n",
       "        vertical-align: top;\n",
       "    }\n",
       "\n",
       "    .dataframe thead th {\n",
       "        text-align: right;\n",
       "    }\n",
       "</style>\n",
       "<table border=\"1\" class=\"dataframe\">\n",
       "  <thead>\n",
       "    <tr style=\"text-align: right;\">\n",
       "      <th></th>\n",
       "      <th>text</th>\n",
       "      <th>label</th>\n",
       "      <th>label_name</th>\n",
       "    </tr>\n",
       "  </thead>\n",
       "  <tbody>\n",
       "    <tr>\n",
       "      <th>0</th>\n",
       "      <td>i didnt feel humiliated</td>\n",
       "      <td>0</td>\n",
       "      <td>sadness</td>\n",
       "    </tr>\n",
       "    <tr>\n",
       "      <th>1</th>\n",
       "      <td>i can go from feeling so hopeless to so damned...</td>\n",
       "      <td>0</td>\n",
       "      <td>sadness</td>\n",
       "    </tr>\n",
       "    <tr>\n",
       "      <th>2</th>\n",
       "      <td>im grabbing a minute to post i feel greedy wrong</td>\n",
       "      <td>3</td>\n",
       "      <td>anger</td>\n",
       "    </tr>\n",
       "    <tr>\n",
       "      <th>3</th>\n",
       "      <td>i am ever feeling nostalgic about the fireplac...</td>\n",
       "      <td>2</td>\n",
       "      <td>love</td>\n",
       "    </tr>\n",
       "    <tr>\n",
       "      <th>4</th>\n",
       "      <td>i am feeling grouchy</td>\n",
       "      <td>3</td>\n",
       "      <td>anger</td>\n",
       "    </tr>\n",
       "  </tbody>\n",
       "</table>\n",
       "</div>"
      ],
      "text/plain": [
       "                                                text  label label_name\n",
       "0                            i didnt feel humiliated      0    sadness\n",
       "1  i can go from feeling so hopeless to so damned...      0    sadness\n",
       "2   im grabbing a minute to post i feel greedy wrong      3      anger\n",
       "3  i am ever feeling nostalgic about the fireplac...      2       love\n",
       "4                               i am feeling grouchy      3      anger"
      ]
     },
     "execution_count": 17,
     "metadata": {},
     "output_type": "execute_result"
    }
   ],
   "source": [
    "df.head()"
   ]
  },
  {
   "cell_type": "code",
   "execution_count": 19,
   "metadata": {},
   "outputs": [
    {
     "data": {
      "image/png": "[encoded data removed]",
      "text/plain": [
       "<Figure size 640x480 with 1 Axes>"
      ]
     },
     "metadata": {},
     "output_type": "display_data"
    }
   ],
   "source": [
    "df[\"label_name\"].value_counts(ascending=True).plot.barh()\n",
    "plt.title(\"Frequency of Classes\")\n",
    "plt.show()"
   ]
  },
  {
   "cell_type": "code",
   "execution_count": 20,
   "metadata": {},
   "outputs": [
    {
     "data": {
      "image/png": "[encoded data removed]",
      "text/plain": [
       "<Figure size 640x480 with 1 Axes>"
      ]
     },
     "metadata": {},
     "output_type": "display_data"
    }
   ],
   "source": [
    "df[\"Words Per Tweet\"] = df[\"text\"].str.split().apply(len)\n",
    "df.boxplot(\"Words Per Tweet\",by=\"label_name\",grid=False,showfliers=False,color=\"black\")\n",
    "plt.suptitle(\"\")\n",
    "plt.xlabel(\"\")\n",
    "plt.show()"
   ]
  },
  {
   "cell_type": "code",
   "execution_count": 21,
   "metadata": {},
   "outputs": [],
   "source": [
    "emotions.reset_format()"
   ]
  },
  {
   "cell_type": "code",
   "execution_count": 24,
   "metadata": {},
   "outputs": [
    {
     "name": "stdout",
     "output_type": "stream",
     "text": [
      "['T', 'o', 'k', 'e', 'n', 'i', 'z', 'i', 'n', 'g', ' ', 't', 'e', 'x', 't', ' ', 'i', 's', ' ', 'a', ' ', 'c', 'o', 'r', 'e', ' ', 't', 'a', 's', 'k', ' ', 'o', 'f', ' ', 'N', 'L', 'P', '.']\n"
     ]
    }
   ],
   "source": [
    "# character level tokenization\n",
    "text = \"Tokenizing text is a core task of NLP.\"\n",
    "tokenized_text = list(text)\n",
    "print(tokenized_text)"
   ]
  },
  {
   "cell_type": "code",
   "execution_count": 25,
   "metadata": {},
   "outputs": [
    {
     "name": "stdout",
     "output_type": "stream",
     "text": [
      "{' ': 0, '.': 1, 'L': 2, 'N': 3, 'P': 4, 'T': 5, 'a': 6, 'c': 7, 'e': 8, 'f': 9, 'g': 10, 'i': 11, 'k': 12, 'n': 13, 'o': 14, 'r': 15, 's': 16, 't': 17, 'x': 18, 'z': 19}\n"
     ]
    }
   ],
   "source": [
    "token2idx = {ch:idx for idx, ch in enumerate(sorted(set(tokenized_text)))}\n",
    "print(token2idx)"
   ]
  },
  {
   "cell_type": "code",
   "execution_count": 26,
   "metadata": {},
   "outputs": [
    {
     "name": "stdout",
     "output_type": "stream",
     "text": [
      "[5, 14, 12, 8, 13, 11, 19, 11, 13, 10, 0, 17, 8, 18, 17, 0, 11, 16, 0, 6, 0, 7, 14, 15, 8, 0, 17, 6, 16, 12, 0, 14, 9, 0, 3, 2, 4, 1]\n"
     ]
    }
   ],
   "source": [
    "input_ids = [token2idx[token] for token in tokenized_text]\n",
    "print(input_ids)"
   ]
  },
  {
   "cell_type": "code",
   "execution_count": 28,
   "metadata": {},
   "outputs": [],
   "source": [
    "input_ids = torch.tensor(input_ids)"
   ]
  },
  {
   "cell_type": "code",
   "execution_count": 29,
   "metadata": {},
   "outputs": [
    {
     "data": {
      "text/plain": [
       "tensor([ 5, 14, 12,  8, 13, 11, 19, 11, 13, 10,  0, 17,  8, 18, 17,  0, 11, 16,\n",
       "         0,  6,  0,  7, 14, 15,  8,  0, 17,  6, 16, 12,  0, 14,  9,  0,  3,  2,\n",
       "         4,  1])"
      ]
     },
     "execution_count": 29,
     "metadata": {},
     "output_type": "execute_result"
    }
   ],
   "source": [
    "input_ids"
   ]
  },
  {
   "cell_type": "code",
   "execution_count": 30,
   "metadata": {},
   "outputs": [
    {
     "data": {
      "text/plain": [
       "torch.Size([38, 20])"
      ]
     },
     "execution_count": 30,
     "metadata": {},
     "output_type": "execute_result"
    }
   ],
   "source": [
    "one_hot_encodings = F.one_hot(input_ids,num_classes=len(token2idx))\n",
    "one_hot_encodings.shape"
   ]
  },
  {
   "cell_type": "code",
   "execution_count": 37,
   "metadata": {},
   "outputs": [
    {
     "data": {
      "text/plain": [
       "tensor([[0, 0, 0, 0, 0, 1, 0, 0, 0, 0, 0, 0, 0, 0, 0, 0, 0, 0, 0, 0],\n",
       "        [0, 0, 0, 0, 0, 0, 0, 0, 0, 0, 0, 0, 0, 0, 1, 0, 0, 0, 0, 0],\n",
       "        [0, 0, 0, 0, 0, 0, 0, 0, 0, 0, 0, 0, 1, 0, 0, 0, 0, 0, 0, 0],\n",
       "        [0, 0, 0, 0, 0, 0, 0, 0, 1, 0, 0, 0, 0, 0, 0, 0, 0, 0, 0, 0],\n",
       "        [0, 0, 0, 0, 0, 0, 0, 0, 0, 0, 0, 0, 0, 1, 0, 0, 0, 0, 0, 0],\n",
       "        [0, 0, 0, 0, 0, 0, 0, 0, 0, 0, 0, 1, 0, 0, 0, 0, 0, 0, 0, 0],\n",
       "        [0, 0, 0, 0, 0, 0, 0, 0, 0, 0, 0, 0, 0, 0, 0, 0, 0, 0, 0, 1],\n",
       "        [0, 0, 0, 0, 0, 0, 0, 0, 0, 0, 0, 1, 0, 0, 0, 0, 0, 0, 0, 0],\n",
       "        [0, 0, 0, 0, 0, 0, 0, 0, 0, 0, 0, 0, 0, 1, 0, 0, 0, 0, 0, 0],\n",
       "        [0, 0, 0, 0, 0, 0, 0, 0, 0, 0, 1, 0, 0, 0, 0, 0, 0, 0, 0, 0],\n",
       "        [1, 0, 0, 0, 0, 0, 0, 0, 0, 0, 0, 0, 0, 0, 0, 0, 0, 0, 0, 0],\n",
       "        [0, 0, 0, 0, 0, 0, 0, 0, 0, 0, 0, 0, 0, 0, 0, 0, 0, 1, 0, 0],\n",
       "        [0, 0, 0, 0, 0, 0, 0, 0, 1, 0, 0, 0, 0, 0, 0, 0, 0, 0, 0, 0],\n",
       "        [0, 0, 0, 0, 0, 0, 0, 0, 0, 0, 0, 0, 0, 0, 0, 0, 0, 0, 1, 0],\n",
       "        [0, 0, 0, 0, 0, 0, 0, 0, 0, 0, 0, 0, 0, 0, 0, 0, 0, 1, 0, 0],\n",
       "        [1, 0, 0, 0, 0, 0, 0, 0, 0, 0, 0, 0, 0, 0, 0, 0, 0, 0, 0, 0],\n",
       "        [0, 0, 0, 0, 0, 0, 0, 0, 0, 0, 0, 1, 0, 0, 0, 0, 0, 0, 0, 0],\n",
       "        [0, 0, 0, 0, 0, 0, 0, 0, 0, 0, 0, 0, 0, 0, 0, 0, 1, 0, 0, 0],\n",
       "        [1, 0, 0, 0, 0, 0, 0, 0, 0, 0, 0, 0, 0, 0, 0, 0, 0, 0, 0, 0],\n",
       "        [0, 0, 0, 0, 0, 0, 1, 0, 0, 0, 0, 0, 0, 0, 0, 0, 0, 0, 0, 0],\n",
       "        [1, 0, 0, 0, 0, 0, 0, 0, 0, 0, 0, 0, 0, 0, 0, 0, 0, 0, 0, 0],\n",
       "        [0, 0, 0, 0, 0, 0, 0, 1, 0, 0, 0, 0, 0, 0, 0, 0, 0, 0, 0, 0],\n",
       "        [0, 0, 0, 0, 0, 0, 0, 0, 0, 0, 0, 0, 0, 0, 1, 0, 0, 0, 0, 0],\n",
       "        [0, 0, 0, 0, 0, 0, 0, 0, 0, 0, 0, 0, 0, 0, 0, 1, 0, 0, 0, 0],\n",
       "        [0, 0, 0, 0, 0, 0, 0, 0, 1, 0, 0, 0, 0, 0, 0, 0, 0, 0, 0, 0],\n",
       "        [1, 0, 0, 0, 0, 0, 0, 0, 0, 0, 0, 0, 0, 0, 0, 0, 0, 0, 0, 0],\n",
       "        [0, 0, 0, 0, 0, 0, 0, 0, 0, 0, 0, 0, 0, 0, 0, 0, 0, 1, 0, 0],\n",
       "        [0, 0, 0, 0, 0, 0, 1, 0, 0, 0, 0, 0, 0, 0, 0, 0, 0, 0, 0, 0],\n",
       "        [0, 0, 0, 0, 0, 0, 0, 0, 0, 0, 0, 0, 0, 0, 0, 0, 1, 0, 0, 0],\n",
       "        [0, 0, 0, 0, 0, 0, 0, 0, 0, 0, 0, 0, 1, 0, 0, 0, 0, 0, 0, 0],\n",
       "        [1, 0, 0, 0, 0, 0, 0, 0, 0, 0, 0, 0, 0, 0, 0, 0, 0, 0, 0, 0],\n",
       "        [0, 0, 0, 0, 0, 0, 0, 0, 0, 0, 0, 0, 0, 0, 1, 0, 0, 0, 0, 0],\n",
       "        [0, 0, 0, 0, 0, 0, 0, 0, 0, 1, 0, 0, 0, 0, 0, 0, 0, 0, 0, 0],\n",
       "        [1, 0, 0, 0, 0, 0, 0, 0, 0, 0, 0, 0, 0, 0, 0, 0, 0, 0, 0, 0],\n",
       "        [0, 0, 0, 1, 0, 0, 0, 0, 0, 0, 0, 0, 0, 0, 0, 0, 0, 0, 0, 0],\n",
       "        [0, 0, 1, 0, 0, 0, 0, 0, 0, 0, 0, 0, 0, 0, 0, 0, 0, 0, 0, 0],\n",
       "        [0, 0, 0, 0, 1, 0, 0, 0, 0, 0, 0, 0, 0, 0, 0, 0, 0, 0, 0, 0],\n",
       "        [0, 1, 0, 0, 0, 0, 0, 0, 0, 0, 0, 0, 0, 0, 0, 0, 0, 0, 0, 0]])"
      ]
     },
     "execution_count": 37,
     "metadata": {},
     "output_type": "execute_result"
    }
   ],
   "source": [
    "len(token2idx)\n",
    "one_hot_encodings\n",
    "\n",
    "# 20 across - our vocab\n",
    "# 38 down, the # of chars in our input sequence"
   ]
  },
  {
   "cell_type": "code",
   "execution_count": 38,
   "metadata": {},
   "outputs": [
    {
     "name": "stdout",
     "output_type": "stream",
     "text": [
      "Token: T\n",
      "Tensor Index: 5\n",
      "One-hot: tensor([0, 0, 0, 0, 0, 1, 0, 0, 0, 0, 0, 0, 0, 0, 0, 0, 0, 0, 0, 0])\n"
     ]
    }
   ],
   "source": [
    "print(f\"Token: {tokenized_text[0]}\")\n",
    "print(f\"Tensor Index: {input_ids[0]}\")\n",
    "print(f\"One-hot: {one_hot_encodings[0]}\")"
   ]
  },
  {
   "cell_type": "code",
   "execution_count": 39,
   "metadata": {},
   "outputs": [
    {
     "name": "stdout",
     "output_type": "stream",
     "text": [
      "['Tokenizing', 'text', 'is', 'a', 'core', 'task', 'of', 'NLP.']\n"
     ]
    }
   ],
   "source": [
    "tokenized_text = text.split()\n",
    "print(tokenized_text)"
   ]
  },
  {
   "cell_type": "code",
   "execution_count": 41,
   "metadata": {},
   "outputs": [
    {
     "data": {
      "application/vnd.jupyter.widget-view+json": {
       "model_id": "e543841c250841df932b40d7c9f44124",
       "version_major": 2,
       "version_minor": 0
      },
      "text/plain": [
       "tokenizer_config.json:   0%|          | 0.00/28.0 [00:00<?, ?B/s]"
      ]
     },
     "metadata": {},
     "output_type": "display_data"
    },
    {
     "data": {
      "application/vnd.jupyter.widget-view+json": {
       "model_id": "bc0551bee13d40b5970cd50a3b3afc92",
       "version_major": 2,
       "version_minor": 0
      },
      "text/plain": [
       "config.json:   0%|          | 0.00/483 [00:00<?, ?B/s]"
      ]
     },
     "metadata": {},
     "output_type": "display_data"
    },
    {
     "data": {
      "application/vnd.jupyter.widget-view+json": {
       "model_id": "ed43f05c43b4468d8c304e71fa7289e9",
       "version_major": 2,
       "version_minor": 0
      },
      "text/plain": [
       "vocab.txt:   0%|          | 0.00/232k [00:00<?, ?B/s]"
      ]
     },
     "metadata": {},
     "output_type": "display_data"
    },
    {
     "data": {
      "application/vnd.jupyter.widget-view+json": {
       "model_id": "0ca6b89401474a1eb62dfd2a70923938",
       "version_major": 2,
       "version_minor": 0
      },
      "text/plain": [
       "tokenizer.json:   0%|          | 0.00/466k [00:00<?, ?B/s]"
      ]
     },
     "metadata": {},
     "output_type": "display_data"
    }
   ],
   "source": [
    "model_ckpt = \"distilbert-base-uncased\"\n",
    "tokenizer = AutoTokenizer.from_pretrained(model_ckpt)"
   ]
  },
  {
   "cell_type": "code",
   "execution_count": 42,
   "metadata": {},
   "outputs": [
    {
     "name": "stdout",
     "output_type": "stream",
     "text": [
      "{'input_ids': [101, 19204, 6026, 3793, 2003, 1037, 4563, 4708, 1997, 17953, 2361, 1012, 102], 'attention_mask': [1, 1, 1, 1, 1, 1, 1, 1, 1, 1, 1, 1, 1]}\n"
     ]
    }
   ],
   "source": [
    "encoded_text = tokenizer(text)\n",
    "print(encoded_text)"
   ]
  },
  {
   "cell_type": "code",
   "execution_count": 44,
   "metadata": {},
   "outputs": [
    {
     "name": "stdout",
     "output_type": "stream",
     "text": [
      "['[CLS]', 'token', '##izing', 'text', 'is', 'a', 'core', 'task', 'of', 'nl', '##p', '.', '[SEP]']\n"
     ]
    }
   ],
   "source": [
    "tokens = tokenizer.convert_ids_to_tokens(encoded_text.input_ids)\n",
    "print(tokens)"
   ]
  },
  {
   "cell_type": "code",
   "execution_count": 45,
   "metadata": {},
   "outputs": [
    {
     "name": "stdout",
     "output_type": "stream",
     "text": [
      "[CLS] tokenizing text is a core task of nlp. [SEP]\n"
     ]
    }
   ],
   "source": [
    "print(tokenizer.convert_tokens_to_string(tokens))"
   ]
  },
  {
   "cell_type": "code",
   "execution_count": 46,
   "metadata": {},
   "outputs": [
    {
     "data": {
      "text/plain": [
       "30522"
      ]
     },
     "execution_count": 46,
     "metadata": {},
     "output_type": "execute_result"
    }
   ],
   "source": [
    "tokenizer.vocab_size"
   ]
  },
  {
   "cell_type": "code",
   "execution_count": 47,
   "metadata": {},
   "outputs": [
    {
     "name": "stdout",
     "output_type": "stream",
     "text": [
      "{'input_ids': [[101, 1045, 2134, 2102, 2514, 26608, 102, 0, 0, 0, 0, 0, 0, 0, 0, 0, 0, 0, 0, 0, 0, 0, 0], [101, 1045, 2064, 2175, 2013, 3110, 2061, 20625, 2000, 2061, 9636, 17772, 2074, 2013, 2108, 2105, 2619, 2040, 14977, 1998, 2003, 8300, 102]], 'attention_mask': [[1, 1, 1, 1, 1, 1, 1, 0, 0, 0, 0, 0, 0, 0, 0, 0, 0, 0, 0, 0, 0, 0, 0], [1, 1, 1, 1, 1, 1, 1, 1, 1, 1, 1, 1, 1, 1, 1, 1, 1, 1, 1, 1, 1, 1, 1]]}\n"
     ]
    }
   ],
   "source": [
    "#tokenizing the whole dataset\n",
    "def tokenize(batch):\n",
    "    return tokenizer(batch[\"text\"],padding=True,truncation=True)\n",
    "\n",
    "print(tokenize(emotions[\"train\"][:2]))"
   ]
  },
  {
   "cell_type": "code",
   "execution_count": 48,
   "metadata": {},
   "outputs": [
    {
     "data": {
      "application/vnd.jupyter.widget-view+json": {
       "model_id": "3d798ac54350417c8ff18e5e26b614d1",
       "version_major": 2,
       "version_minor": 0
      },
      "text/plain": [
       "Map:   0%|          | 0/16000 [00:00<?, ? examples/s]"
      ]
     },
     "metadata": {},
     "output_type": "display_data"
    },
    {
     "data": {
      "application/vnd.jupyter.widget-view+json": {
       "model_id": "f393b515548742c4ba792b578bde81a0",
       "version_major": 2,
       "version_minor": 0
      },
      "text/plain": [
       "Map:   0%|          | 0/2000 [00:00<?, ? examples/s]"
      ]
     },
     "metadata": {},
     "output_type": "display_data"
    },
    {
     "data": {
      "application/vnd.jupyter.widget-view+json": {
       "model_id": "c7877e3009334e8aa85ecd633b1e8140",
       "version_major": 2,
       "version_minor": 0
      },
      "text/plain": [
       "Map:   0%|          | 0/2000 [00:00<?, ? examples/s]"
      ]
     },
     "metadata": {},
     "output_type": "display_data"
    }
   ],
   "source": [
    "#padding makes the input ID length the same for all inputs by adding a bunch of zeroes if actual input is too short\n",
    "#because we don't want to model to learn that 0's mean something, we tell it which indices to focus on with attention masks\n",
    "emotions_encoded = emotions.map(tokenize,batched=True,batch_size=None)"
   ]
  },
  {
   "cell_type": "code",
   "execution_count": 51,
   "metadata": {},
   "outputs": [
    {
     "data": {
      "text/plain": [
       "{'text': 'i am feeling grouchy',\n",
       " 'label': 3,\n",
       " 'input_ids': [101,\n",
       "  1045,\n",
       "  2572,\n",
       "  3110,\n",
       "  24665,\n",
       "  7140,\n",
       "  11714,\n",
       "  102,\n",
       "  0,\n",
       "  0,\n",
       "  0,\n",
       "  0,\n",
       "  0,\n",
       "  0,\n",
       "  0,\n",
       "  0,\n",
       "  0,\n",
       "  0,\n",
       "  0,\n",
       "  0,\n",
       "  0,\n",
       "  0,\n",
       "  0,\n",
       "  0,\n",
       "  0,\n",
       "  0,\n",
       "  0,\n",
       "  0,\n",
       "  0,\n",
       "  0,\n",
       "  0,\n",
       "  0,\n",
       "  0,\n",
       "  0,\n",
       "  0,\n",
       "  0,\n",
       "  0,\n",
       "  0,\n",
       "  0,\n",
       "  0,\n",
       "  0,\n",
       "  0,\n",
       "  0,\n",
       "  0,\n",
       "  0,\n",
       "  0,\n",
       "  0,\n",
       "  0,\n",
       "  0,\n",
       "  0,\n",
       "  0,\n",
       "  0,\n",
       "  0,\n",
       "  0,\n",
       "  0,\n",
       "  0,\n",
       "  0,\n",
       "  0,\n",
       "  0,\n",
       "  0,\n",
       "  0,\n",
       "  0,\n",
       "  0,\n",
       "  0,\n",
       "  0,\n",
       "  0,\n",
       "  0,\n",
       "  0,\n",
       "  0,\n",
       "  0,\n",
       "  0,\n",
       "  0,\n",
       "  0,\n",
       "  0,\n",
       "  0,\n",
       "  0,\n",
       "  0,\n",
       "  0,\n",
       "  0,\n",
       "  0,\n",
       "  0,\n",
       "  0,\n",
       "  0,\n",
       "  0,\n",
       "  0,\n",
       "  0,\n",
       "  0],\n",
       " 'attention_mask': [1,\n",
       "  1,\n",
       "  1,\n",
       "  1,\n",
       "  1,\n",
       "  1,\n",
       "  1,\n",
       "  1,\n",
       "  0,\n",
       "  0,\n",
       "  0,\n",
       "  0,\n",
       "  0,\n",
       "  0,\n",
       "  0,\n",
       "  0,\n",
       "  0,\n",
       "  0,\n",
       "  0,\n",
       "  0,\n",
       "  0,\n",
       "  0,\n",
       "  0,\n",
       "  0,\n",
       "  0,\n",
       "  0,\n",
       "  0,\n",
       "  0,\n",
       "  0,\n",
       "  0,\n",
       "  0,\n",
       "  0,\n",
       "  0,\n",
       "  0,\n",
       "  0,\n",
       "  0,\n",
       "  0,\n",
       "  0,\n",
       "  0,\n",
       "  0,\n",
       "  0,\n",
       "  0,\n",
       "  0,\n",
       "  0,\n",
       "  0,\n",
       "  0,\n",
       "  0,\n",
       "  0,\n",
       "  0,\n",
       "  0,\n",
       "  0,\n",
       "  0,\n",
       "  0,\n",
       "  0,\n",
       "  0,\n",
       "  0,\n",
       "  0,\n",
       "  0,\n",
       "  0,\n",
       "  0,\n",
       "  0,\n",
       "  0,\n",
       "  0,\n",
       "  0,\n",
       "  0,\n",
       "  0,\n",
       "  0,\n",
       "  0,\n",
       "  0,\n",
       "  0,\n",
       "  0,\n",
       "  0,\n",
       "  0,\n",
       "  0,\n",
       "  0,\n",
       "  0,\n",
       "  0,\n",
       "  0,\n",
       "  0,\n",
       "  0,\n",
       "  0,\n",
       "  0,\n",
       "  0,\n",
       "  0,\n",
       "  0,\n",
       "  0,\n",
       "  0]}"
      ]
     },
     "execution_count": 51,
     "metadata": {},
     "output_type": "execute_result"
    }
   ],
   "source": [
    "emotions_encoded[\"train\"][4]"
   ]
  },
  {
   "cell_type": "code",
   "execution_count": 53,
   "metadata": {},
   "outputs": [
    {
     "data": {
      "application/vnd.jupyter.widget-view+json": {
       "model_id": "3fb28986fc12482a9cabeb48914b3acf",
       "version_major": 2,
       "version_minor": 0
      },
      "text/plain": [
       "model.safetensors:   0%|          | 0.00/268M [00:00<?, ?B/s]"
      ]
     },
     "metadata": {},
     "output_type": "display_data"
    }
   ],
   "source": [
    "model_ckpt = \"distilbert-base-uncased\"\n",
    "device = torch.device(\"mps\" if torch.cuda.is_available() else \"cpu\")\n",
    "model = AutoModel.from_pretrained(model_ckpt).to(device)"
   ]
  },
  {
   "cell_type": "code",
   "execution_count": 54,
   "metadata": {},
   "outputs": [
    {
     "name": "stdout",
     "output_type": "stream",
     "text": [
      "Input tensor shape: torch.Size([1, 6])\n"
     ]
    }
   ],
   "source": [
    "text = \"this is a test\"\n",
    "inputs = tokenizer(text,return_tensors=\"pt\")\n",
    "print(f\"Input tensor shape: {inputs['input_ids'].size()}\")"
   ]
  },
  {
   "cell_type": "code",
   "execution_count": 57,
   "metadata": {},
   "outputs": [
    {
     "data": {
      "text/plain": [
       "{'input_ids': tensor([[ 101, 2023, 2003, 1037, 3231,  102]]), 'attention_mask': tensor([[1, 1, 1, 1, 1, 1]])}"
      ]
     },
     "execution_count": 57,
     "metadata": {},
     "output_type": "execute_result"
    }
   ],
   "source": [
    "inputs"
   ]
  },
  {
   "cell_type": "code",
   "execution_count": 58,
   "metadata": {},
   "outputs": [],
   "source": [
    "inputs = {k:v.to(device) for k,v in inputs.items()}"
   ]
  },
  {
   "cell_type": "code",
   "execution_count": 59,
   "metadata": {},
   "outputs": [
    {
     "data": {
      "text/plain": [
       "{'input_ids': tensor([[ 101, 2023, 2003, 1037, 3231,  102]]),\n",
       " 'attention_mask': tensor([[1, 1, 1, 1, 1, 1]])}"
      ]
     },
     "execution_count": 59,
     "metadata": {},
     "output_type": "execute_result"
    }
   ],
   "source": [
    "inputs"
   ]
  },
  {
   "cell_type": "code",
   "execution_count": 60,
   "metadata": {},
   "outputs": [
    {
     "name": "stdout",
     "output_type": "stream",
     "text": [
      "BaseModelOutput(last_hidden_state=tensor([[[-0.1565, -0.1862,  0.0528,  ..., -0.1188,  0.0662,  0.5470],\n",
      "         [-0.3575, -0.6484, -0.0618,  ..., -0.3040,  0.3508,  0.5221],\n",
      "         [-0.2772, -0.4459,  0.1818,  ..., -0.0948, -0.0076,  0.9958],\n",
      "         [-0.2841, -0.3917,  0.3753,  ..., -0.2151, -0.1173,  1.0526],\n",
      "         [ 0.2661, -0.5094, -0.3180,  ..., -0.4203,  0.0144, -0.2149],\n",
      "         [ 0.9441,  0.0112, -0.4714,  ...,  0.1439, -0.7288, -0.1619]]]), hidden_states=None, attentions=None)\n"
     ]
    }
   ],
   "source": [
    "with torch.no_grad(): #disable automatic calculation of the gradient - less memory footprint\n",
    "    outputs = model(**inputs)\n",
    "print(outputs)"
   ]
  },
  {
   "cell_type": "code",
   "execution_count": 63,
   "metadata": {},
   "outputs": [
    {
     "data": {
      "text/plain": [
       "tensor([[[-0.1565, -0.1862,  0.0528,  ..., -0.1188,  0.0662,  0.5470],\n",
       "         [-0.3575, -0.6484, -0.0618,  ..., -0.3040,  0.3508,  0.5221],\n",
       "         [-0.2772, -0.4459,  0.1818,  ..., -0.0948, -0.0076,  0.9958],\n",
       "         [-0.2841, -0.3917,  0.3753,  ..., -0.2151, -0.1173,  1.0526],\n",
       "         [ 0.2661, -0.5094, -0.3180,  ..., -0.4203,  0.0144, -0.2149],\n",
       "         [ 0.9441,  0.0112, -0.4714,  ...,  0.1439, -0.7288, -0.1619]]])"
      ]
     },
     "execution_count": 63,
     "metadata": {},
     "output_type": "execute_result"
    }
   ],
   "source": [
    "outputs.last_hidden_state"
   ]
  },
  {
   "cell_type": "code",
   "execution_count": 65,
   "metadata": {},
   "outputs": [
    {
     "data": {
      "text/plain": [
       "torch.Size([1, 6, 768])"
      ]
     },
     "execution_count": 65,
     "metadata": {},
     "output_type": "execute_result"
    }
   ],
   "source": [
    "outputs.last_hidden_state.size() #batch_size, n_tokens, hidden_dim"
   ]
  },
  {
   "cell_type": "code",
   "execution_count": 74,
   "metadata": {},
   "outputs": [
    {
     "data": {
      "text/plain": [
       "tensor([[-0.1565, -0.1862,  0.0528,  ..., -0.1188,  0.0662,  0.5470],\n",
       "        [-0.3575, -0.6484, -0.0618,  ..., -0.3040,  0.3508,  0.5221],\n",
       "        [-0.2772, -0.4459,  0.1818,  ..., -0.0948, -0.0076,  0.9958],\n",
       "        [-0.2841, -0.3917,  0.3753,  ..., -0.2151, -0.1173,  1.0526],\n",
       "        [ 0.2661, -0.5094, -0.3180,  ..., -0.4203,  0.0144, -0.2149],\n",
       "        [ 0.9441,  0.0112, -0.4714,  ...,  0.1439, -0.7288, -0.1619]])"
      ]
     },
     "execution_count": 74,
     "metadata": {},
     "output_type": "execute_result"
    }
   ],
   "source": [
    "outputs[0][0].size() #basically, each word is a row - we get a 768 dimension vector in return \n",
    "outputs[0][0]"
   ]
  },
  {
   "cell_type": "code",
   "execution_count": 75,
   "metadata": {},
   "outputs": [
    {
     "data": {
      "text/plain": [
       "torch.Size([1, 768])"
      ]
     },
     "execution_count": 75,
     "metadata": {},
     "output_type": "execute_result"
    }
   ],
   "source": [
    "outputs.last_hidden_state[:,0].size()"
   ]
  },
  {
   "cell_type": "code",
   "execution_count": 76,
   "metadata": {},
   "outputs": [],
   "source": [
    "def extract_hidden_states(batch):\n",
    "    #place model inputs on the GPU\n",
    "    inputs = {k:v.to(device) for k,v in batch.items() if k in tokenizer.model_input_names}\n",
    "    #extract last hidden states\n",
    "    with torch.no_grad():\n",
    "        last_hidden_state = model(**inputs).last_hidden_state\n",
    "    #return vector for [CLS] token\n",
    "    return {\"hidden_state\": last_hidden_state[:,0].cpu().numpy()}"
   ]
  },
  {
   "cell_type": "code",
   "execution_count": 77,
   "metadata": {},
   "outputs": [],
   "source": [
    "emotions_encoded.set_format(\"torch\",columns=[\"input_ids\",\"attention_mask\",\"label\"])"
   ]
  },
  {
   "cell_type": "code",
   "execution_count": 79,
   "metadata": {},
   "outputs": [
    {
     "data": {
      "application/vnd.jupyter.widget-view+json": {
       "model_id": "c99f334a024745ec9a6723991d286ded",
       "version_major": 2,
       "version_minor": 0
      },
      "text/plain": [
       "Map:   0%|          | 0/16000 [00:00<?, ? examples/s]"
      ]
     },
     "metadata": {},
     "output_type": "display_data"
    },
    {
     "data": {
      "application/vnd.jupyter.widget-view+json": {
       "model_id": "a577a51e8dbe457c9730e12d302db63e",
       "version_major": 2,
       "version_minor": 0
      },
      "text/plain": [
       "Map:   0%|          | 0/2000 [00:00<?, ? examples/s]"
      ]
     },
     "metadata": {},
     "output_type": "display_data"
    },
    {
     "data": {
      "application/vnd.jupyter.widget-view+json": {
       "model_id": "90842714715242e3b3b6efbd2e92ef44",
       "version_major": 2,
       "version_minor": 0
      },
      "text/plain": [
       "Map:   0%|          | 0/2000 [00:00<?, ? examples/s]"
      ]
     },
     "metadata": {},
     "output_type": "display_data"
    }
   ],
   "source": [
    "emotions_hidden = emotions_encoded.map(extract_hidden_states,batched=True)"
   ]
  },
  {
   "cell_type": "code",
   "execution_count": 95,
   "metadata": {},
   "outputs": [
    {
     "data": {
      "text/plain": [
       "Dataset({\n",
       "    features: ['text', 'label', 'input_ids', 'attention_mask', 'hidden_state'],\n",
       "    num_rows: 16000\n",
       "})"
      ]
     },
     "execution_count": 95,
     "metadata": {},
     "output_type": "execute_result"
    }
   ],
   "source": [
    "emotions_hidden[\"train\"]"
   ]
  },
  {
   "cell_type": "code",
   "execution_count": 106,
   "metadata": {},
   "outputs": [
    {
     "data": {
      "text/plain": [
       "{'label': tensor(0),\n",
       " 'input_ids': tensor([  101,  1045,  2064,  2175,  2013,  3110,  2061, 20625,  2000,  2061,\n",
       "          9636, 17772,  2074,  2013,  2108,  2105,  2619,  2040, 14977,  1998,\n",
       "          2003,  8300,   102,     0,     0,     0,     0,     0,     0,     0,\n",
       "             0,     0,     0,     0,     0,     0,     0,     0,     0,     0,\n",
       "             0,     0,     0,     0,     0,     0,     0,     0,     0,     0,\n",
       "             0,     0,     0,     0,     0,     0,     0,     0,     0,     0,\n",
       "             0,     0,     0,     0,     0,     0,     0,     0,     0,     0,\n",
       "             0,     0,     0,     0,     0,     0,     0,     0,     0,     0,\n",
       "             0,     0,     0,     0,     0,     0,     0]),\n",
       " 'attention_mask': tensor([1, 1, 1, 1, 1, 1, 1, 1, 1, 1, 1, 1, 1, 1, 1, 1, 1, 1, 1, 1, 1, 1, 1, 0,\n",
       "         0, 0, 0, 0, 0, 0, 0, 0, 0, 0, 0, 0, 0, 0, 0, 0, 0, 0, 0, 0, 0, 0, 0, 0,\n",
       "         0, 0, 0, 0, 0, 0, 0, 0, 0, 0, 0, 0, 0, 0, 0, 0, 0, 0, 0, 0, 0, 0, 0, 0,\n",
       "         0, 0, 0, 0, 0, 0, 0, 0, 0, 0, 0, 0, 0, 0, 0]),\n",
       " 'hidden_state': tensor([-3.2363e-02, -3.2315e-02, -1.9573e-01, -3.4685e-01, -1.4316e-01,\n",
       "         -1.8670e-01,  2.5069e-01,  4.1114e-01, -5.9233e-02, -4.2388e-01,\n",
       "         -2.0157e-02, -3.9640e-02, -1.0070e-01,  4.1125e-01,  2.4159e-01,\n",
       "          2.3955e-01,  2.1609e-01,  2.3275e-01,  1.1953e-01, -1.1994e-01,\n",
       "          1.3943e-02, -4.5771e-02, -1.1776e-01,  1.0547e-01,  5.8089e-03,\n",
       "         -9.5805e-02,  9.9802e-02, -1.3250e-01,  2.4869e-01, -1.2159e-01,\n",
       "          8.7682e-02,  8.4267e-02, -1.7338e-01, -2.6159e-01,  1.1753e-01,\n",
       "         -1.7384e-01,  6.9734e-02, -3.5587e-01, -5.5494e-02,  8.8956e-03,\n",
       "         -6.7489e-02, -5.9667e-02, -1.4450e-02, -9.3042e-02, -1.0468e-01,\n",
       "         -2.1275e-01, -2.4294e+00, -1.9339e-01,  1.5907e-02, -1.2355e-01,\n",
       "          2.2788e-01, -1.3114e-01,  2.2353e-01,  2.7558e-01,  4.4254e-01,\n",
       "          3.5904e-01, -2.0713e-01,  2.9906e-01, -8.8740e-02,  1.7581e-01,\n",
       "          2.9491e-01,  1.1377e-01, -1.9814e-01, -2.1774e-01, -1.2698e-01,\n",
       "          1.3146e-01, -8.2443e-02,  6.7245e-02,  1.1929e-02,  2.4722e-01,\n",
       "         -2.9221e-01, -1.5207e-01,  2.1010e-01, -2.2425e-01, -6.6253e-02,\n",
       "          7.1991e-02, -1.2079e-01,  1.9187e-01,  2.3885e-02,  1.6900e-01,\n",
       "         -3.2450e-02,  5.3360e-01,  2.1752e-01,  1.2463e-01,  1.6518e-01,\n",
       "         -4.9251e-03, -1.9452e-01,  1.5103e-02,  2.7150e-01,  3.2401e-01,\n",
       "         -3.2098e-01, -1.4943e-01,  4.1248e-02,  4.2086e-01,  3.7692e-01,\n",
       "         -3.7616e-01,  6.3367e-02,  5.0808e-03,  1.1479e-01,  2.6863e-01,\n",
       "          1.9308e-01,  1.3918e-02, -2.5700e-02, -3.3208e-01,  1.8180e-01,\n",
       "         -2.0033e-02, -2.1946e-02, -3.1180e-01,  9.5573e-02, -2.4643e+00,\n",
       "         -1.3006e-02,  5.8032e-02, -3.8411e-01, -2.5247e-01, -1.4174e-01,\n",
       "          2.0100e-01,  2.9318e-01, -1.4643e-02,  1.7975e-01, -4.7881e-02,\n",
       "          1.0032e-01,  3.8880e-02, -1.1792e-01, -2.5434e-01,  2.1956e-02,\n",
       "          8.7548e-02,  2.7941e-04, -3.4929e-01,  1.1710e-01,  3.1832e-01,\n",
       "          2.8725e-01,  5.6664e-01, -3.5749e-02, -3.9447e-01, -2.7608e-01,\n",
       "          3.0512e-01,  2.2496e-01, -8.3492e-02, -1.3302e-01, -1.0493e-01,\n",
       "         -3.4879e-01, -1.3446e-01, -2.9961e+00,  3.8708e-01,  3.5667e-01,\n",
       "         -2.9121e-03,  9.6835e-02,  9.8761e-02,  4.9790e-02,  1.9608e-01,\n",
       "          2.1150e-02, -3.7134e-02, -1.5094e-01, -1.6561e-01, -1.5036e-01,\n",
       "         -1.8409e-01, -4.2267e-01,  7.5130e-02,  5.1064e-01,  1.2389e-01,\n",
       "          1.4038e-01, -2.2593e-01, -1.5750e-01, -6.3807e-02, -3.2205e-03,\n",
       "          1.4111e-01,  3.6827e-01,  2.3586e-01, -1.1571e-02, -2.7648e-02,\n",
       "          1.6840e-01,  9.8716e-02,  3.0096e-01, -1.9226e-01,  1.8726e-01,\n",
       "         -1.7671e-01,  1.8455e-01,  3.6911e-01,  1.6331e-01, -1.2193e-01,\n",
       "          3.8474e-02,  4.0548e-01,  1.4172e-01,  1.1013e-01, -3.1064e-02,\n",
       "         -1.9507e-01,  1.8380e-02, -1.9592e-01, -2.1119e-01,  3.0078e-01,\n",
       "         -1.4430e-01, -3.6476e-01,  5.5561e-03, -1.9080e-02,  2.4370e-01,\n",
       "         -2.8861e-01,  3.0572e-02, -3.4631e-01,  2.2572e-01,  9.5500e-02,\n",
       "         -2.7844e-01, -1.3220e-01, -2.1319e-01,  2.8476e-01, -1.3547e-01,\n",
       "          3.9232e+00,  3.4839e-01, -5.9003e-02, -2.6206e-02, -2.9966e-03,\n",
       "          2.2502e-02,  9.4241e-02, -1.6755e-01, -8.2101e-02, -9.6525e-03,\n",
       "         -2.4379e-01, -1.2945e-02,  1.4131e-01,  9.9184e-02,  2.0106e-02,\n",
       "          2.9429e-01,  2.8387e-01, -1.5112e-01,  7.8344e-02,  5.7670e-02,\n",
       "          2.0591e-01, -1.6702e-01,  1.8255e-02,  5.3760e-02, -1.2703e+00,\n",
       "          1.7877e-02, -3.3601e-03, -4.1509e-01,  4.2608e-01, -2.3226e-01,\n",
       "         -1.4718e-02,  1.4548e-01, -5.7566e-02,  1.6313e-01,  1.3694e-01,\n",
       "         -2.3794e-01,  9.5089e-02,  4.5699e-01,  2.7264e-01, -3.2696e-01,\n",
       "          5.5342e-01, -6.2474e-02,  5.6503e-02, -9.1001e-02,  1.5822e-01,\n",
       "          2.5594e-01, -1.4643e-03, -1.8601e-01, -1.5978e-01, -4.0996e-02,\n",
       "          1.9788e-01, -6.5138e-03,  1.3075e-01, -2.9486e-01, -1.6574e-01,\n",
       "         -3.0278e-01, -5.2984e-02,  2.0301e-01,  1.3135e-01, -5.0210e-01,\n",
       "         -5.5230e-02, -2.5141e-01, -1.5812e-01,  5.4874e-02,  2.0389e-01,\n",
       "         -6.7808e-02, -6.4947e-03, -3.2346e-01, -3.5327e+00, -2.7854e-01,\n",
       "         -6.1734e-02,  2.0776e-01,  3.2139e-01, -1.1180e-01,  2.3447e-02,\n",
       "          3.3499e-01,  1.7371e-01, -3.3498e-01,  3.0946e-01,  2.2188e-01,\n",
       "          3.7210e-02,  2.7146e-01, -3.5864e-01,  1.7339e-01,  7.6873e-02,\n",
       "         -1.9965e-01,  8.1900e-02, -4.5180e-02, -9.8938e-02,  2.6206e-01,\n",
       "         -2.3374e-01,  2.8962e-01,  9.5962e-02,  1.8446e-01, -2.5489e-01,\n",
       "         -1.1605e-01, -7.7801e-02,  9.6565e-02,  2.0051e-03, -1.2453e-01,\n",
       "          2.3056e-01,  1.3386e-02, -2.6207e-01, -2.8089e+00,  1.4496e-01,\n",
       "         -2.7917e-01, -2.2885e-01,  1.0184e-01,  4.2645e-02,  2.1380e-01,\n",
       "         -1.5723e-01, -3.0251e-01,  4.8684e-02,  1.7105e-01,  2.1127e-02,\n",
       "          1.2515e-01,  5.9567e-02,  1.7588e-01, -1.6883e-01,  6.7289e-02,\n",
       "         -1.6565e-01,  9.5152e-02,  1.9953e-01, -3.2374e-02,  2.8306e-01,\n",
       "          1.6083e-03, -8.4043e-02,  1.1721e-01,  3.9836e-01, -3.0307e-01,\n",
       "         -2.6540e-02, -9.9892e-02,  4.8432e-02, -6.1413e-02, -2.2307e-01,\n",
       "          7.9353e-02, -1.6981e-02,  2.8046e-02,  4.7984e-03, -1.3553e-01,\n",
       "          1.7427e-01,  2.5030e-01, -8.4254e-02, -1.2365e-01,  1.8300e-01,\n",
       "          8.0413e-02,  2.2101e-01,  6.9440e-01,  1.2489e-01,  5.3940e-02,\n",
       "         -2.5114e-02,  2.9862e-03,  1.5615e-01,  2.8373e-01,  3.3189e-02,\n",
       "          1.2066e+00, -2.9997e-03,  3.1911e-01, -2.2009e-01,  3.0803e-01,\n",
       "         -8.6546e-02, -2.3242e-01,  2.1859e-01,  2.3041e-01, -1.0725e-01,\n",
       "          1.2996e-01, -9.8805e-02,  1.0791e-01, -4.7234e-01,  1.6916e-01,\n",
       "         -4.9113e-01,  8.6274e-02,  2.4879e-01, -1.2433e-02,  9.8178e-02,\n",
       "         -1.5901e-01, -8.0131e-01,  9.0409e-02,  7.3910e-02, -1.1814e-01,\n",
       "          1.4955e-01,  6.1251e-02,  3.4894e-02, -2.1147e-01,  6.6339e-02,\n",
       "         -7.6249e-02,  1.3709e-01, -9.9186e-02, -1.2864e-01, -7.5221e-02,\n",
       "          2.5280e-01, -1.2432e-01, -1.1130e-02, -7.9391e-02,  2.3811e-01,\n",
       "          2.9994e-01,  2.4303e-02,  2.4630e-01,  1.4831e-01,  1.4405e-01,\n",
       "         -7.9035e-01,  8.2465e-02, -1.3351e-01,  6.8420e-02, -2.2729e-01,\n",
       "         -3.2650e-01, -1.3800e-01, -2.0347e-01, -3.9290e-01, -2.6333e-01,\n",
       "          4.4223e-01, -3.9946e-02,  2.7687e-02, -1.9609e-01, -4.2424e-02,\n",
       "          1.8013e-01, -2.2207e-01,  8.1898e-01, -2.5018e-01, -1.6685e-02,\n",
       "          5.7030e-01,  9.8934e-03,  9.1869e-02,  1.8714e-01,  1.6144e-01,\n",
       "         -1.1553e-01, -1.0705e-01, -3.5834e-01,  5.5081e-02, -1.3225e-01,\n",
       "         -2.7339e-01, -2.2988e-01,  1.6887e-02,  1.3962e-01,  6.6490e-02,\n",
       "         -2.1425e-01, -4.2997e-01, -2.5190e-01, -3.5628e-01, -1.8398e-01,\n",
       "          1.4981e-01,  1.3693e-01,  1.4936e-01,  3.7565e-01,  1.1499e-01,\n",
       "         -1.4190e-01,  9.5016e-02, -3.3526e-01,  4.6075e-01, -1.8627e-02,\n",
       "          1.0298e-01, -1.8657e-01,  1.0041e-01, -8.9179e-02, -9.3249e-02,\n",
       "          9.0621e-02, -4.0994e-01,  3.2926e-01,  2.1664e-01, -8.4817e-02,\n",
       "         -1.3015e-02,  1.0069e-01,  1.8197e-01,  1.4961e-01, -1.6360e-02,\n",
       "         -1.2735e+00,  1.5583e-01,  2.3457e-01,  9.5818e-02,  8.0692e-02,\n",
       "         -6.9856e-02, -4.9208e-02,  4.7123e-01,  2.2048e-01, -2.3500e-01,\n",
       "         -4.6124e-02, -1.7010e-01, -9.1555e-02,  2.6261e-01, -7.7647e-02,\n",
       "         -1.0787e-01,  3.7506e-02, -9.2822e-03, -1.9176e-01, -1.1883e-01,\n",
       "          5.8562e-03,  1.3160e-01,  2.5325e-01,  1.4179e-01,  1.0937e-01,\n",
       "         -9.7511e-02,  4.1766e-02,  1.3216e-01,  2.1235e-02,  2.0424e-01,\n",
       "          3.2713e-02, -5.3709e-01, -5.5918e-01, -4.0925e-01,  2.1721e-01,\n",
       "          5.3103e-02,  1.5933e-01, -3.7019e-02,  3.4710e-01, -1.2423e-02,\n",
       "         -5.7815e-01,  3.1686e-01,  3.4354e-01, -1.8817e-01,  5.1454e-01,\n",
       "          2.6232e-01, -8.2333e-02,  2.6699e-01, -1.4747e-01, -2.2389e-01,\n",
       "         -1.4729e-02,  9.1032e-02, -3.9581e-02,  8.6602e-02,  1.5249e-03,\n",
       "         -1.2806e-01, -1.1854e-01,  3.2068e-01, -1.5429e-02,  1.2745e-01,\n",
       "          2.6673e-01, -1.6171e-01, -3.0541e-01,  1.3028e-01, -1.3319e-01,\n",
       "         -4.5360e-01, -2.1711e-01, -1.2285e-01,  9.5393e-02, -5.7908e-02,\n",
       "          3.9164e-01, -1.7015e-01, -1.9278e-01, -7.6761e-02, -6.3806e-02,\n",
       "          1.1381e-01, -3.4599e-02,  2.8761e-01,  1.7027e-01, -2.0973e-01,\n",
       "          7.8664e-02, -2.2743e-01, -1.1671e-01,  3.5298e-01, -7.6573e-02,\n",
       "          6.4515e-02, -2.4224e-01, -2.2167e-01,  1.1938e-02, -2.3110e-01,\n",
       "         -2.5532e-01, -1.0334e-01,  2.0210e-01,  7.5716e-02, -3.3214e-01,\n",
       "          6.7235e-03,  1.6973e-01, -2.3449e-01,  2.3183e-01, -1.4061e-01,\n",
       "         -2.3034e-01,  3.3035e-01,  3.6622e-01,  2.7070e-01, -1.9717e-01,\n",
       "          4.9775e-01,  2.1718e-01,  1.3705e-02, -2.7897e-01,  6.8965e-02,\n",
       "         -3.8398e-02, -3.3899e-02, -1.0665e-01,  1.4025e-01, -6.4826e-03,\n",
       "          8.0744e-02, -5.5054e-02, -5.0765e-01,  1.8079e+00,  1.9107e-01,\n",
       "          1.5398e-01, -1.0896e-02,  3.9533e-01,  6.8294e-03,  1.5448e-02,\n",
       "          1.6804e-01, -1.5718e-01,  2.0427e-01,  5.3636e-02,  5.8618e-02,\n",
       "         -7.4269e-02,  1.0862e-01,  3.4117e-01,  1.1464e-01,  1.4032e-01,\n",
       "         -6.2577e-02, -2.2473e-01, -1.5737e-01, -3.6006e-01,  2.7460e-01,\n",
       "          2.7903e-01, -1.2135e-01,  5.6340e-02,  1.5499e-01,  1.0939e-01,\n",
       "         -1.9718e-01, -7.1752e-02,  1.6505e-01,  1.4730e-01,  1.7620e-01,\n",
       "          1.9170e-01,  2.0688e-01, -1.6068e-01, -1.1721e-02,  2.3807e-01,\n",
       "         -2.2527e-01,  2.5144e-04,  1.3600e-01, -8.2352e-02, -2.0649e-01,\n",
       "          4.3867e-01, -6.5849e-04,  7.4868e-03,  3.0635e-01, -1.9334e-01,\n",
       "         -1.3173e-01,  2.6370e-01,  3.1385e-01, -9.6601e-02, -9.8468e-02,\n",
       "         -5.2094e-02,  5.9464e-01, -1.0858e-01, -6.5256e-02, -3.3894e-02,\n",
       "         -1.4233e-01, -2.1142e-01,  2.5278e-01, -1.4968e-01,  6.4407e-02,\n",
       "          2.1339e-01,  2.5200e-01,  6.7391e-02,  1.7276e-01, -9.8558e-02,\n",
       "          2.1815e-01,  1.5861e-01, -1.9862e-01, -6.0561e-02,  2.9042e-01,\n",
       "          4.3507e-01, -6.1583e-02, -2.2120e-01,  2.4134e-01,  7.2879e-01,\n",
       "          2.4233e-01, -2.2077e-01, -2.6636e+00,  6.4031e-02, -7.6370e-02,\n",
       "          1.8341e-01,  2.4226e-02,  3.2587e-01,  9.6426e-02,  6.7696e-03,\n",
       "          1.5096e-02, -2.0244e-01,  3.4721e-02,  1.7958e-01,  5.9637e-01,\n",
       "          7.2576e-02,  2.8754e-01,  8.0446e-02,  1.0961e-01, -1.0235e-01,\n",
       "         -1.7555e-01, -2.1619e-01, -1.0625e-01,  2.1853e-01,  2.9135e-02,\n",
       "         -2.8051e-01, -4.6491e-01, -8.6033e-03, -4.2722e-02, -5.9642e-02,\n",
       "          8.9532e-02,  2.8561e-01, -1.3805e-02,  4.5919e-01, -9.1658e-02,\n",
       "          4.2888e-02, -1.3990e-02, -7.6439e-02, -2.8554e-01, -2.1884e-01,\n",
       "         -1.7759e-01,  2.4502e-01, -1.2247e-01,  2.4560e-01,  1.0852e-01,\n",
       "         -8.1114e-02,  2.3885e-01, -1.8960e-01,  4.5441e-01, -1.7379e-01,\n",
       "          2.1045e-01, -5.5977e-01, -6.8152e-02,  1.5432e-01,  3.0034e-01,\n",
       "         -1.3819e-01,  1.4856e-01,  1.2730e-01,  2.4443e-01,  1.7630e-01,\n",
       "          4.9472e-02, -1.4877e-01, -1.2619e-01,  2.5861e-01,  1.1438e-02,\n",
       "          9.9326e-02,  4.6417e-01, -2.2476e-01, -3.8831e-01,  1.4358e-01,\n",
       "         -2.0881e-01, -1.0024e-01, -1.5332e-01, -4.3518e-01,  2.0353e-01,\n",
       "          1.3123e-01,  4.9282e-02, -5.1823e-02,  1.6797e-01,  4.8978e-01,\n",
       "          8.7837e-02,  5.1877e-02, -9.7925e-02,  5.8328e-04, -4.3655e-03,\n",
       "         -2.4450e-01,  1.0515e-01, -7.0325e+00, -8.3830e-02, -1.5478e-01,\n",
       "         -2.6934e-01, -1.2383e-01, -2.7802e-01,  2.1056e-01, -3.0141e-01,\n",
       "          1.8936e-01, -2.7609e-01,  2.3780e-01,  4.1381e-02, -5.0164e-02,\n",
       "         -1.7466e-01,  3.5464e-01,  3.0277e-01])}"
      ]
     },
     "execution_count": 106,
     "metadata": {},
     "output_type": "execute_result"
    }
   ],
   "source": [
    "emotions_hidden[\"train\"][1]"
   ]
  },
  {
   "cell_type": "code",
   "execution_count": null,
   "metadata": {},
   "outputs": [],
   "source": []
  }
 ],
 "metadata": {
  "kernelspec": {
   "display_name": "anirudhkulkarni-_yqJQTez",
   "language": "python",
   "name": "python3"
  },
  "language_info": {
   "codemirror_mode": {
    "name": "ipython",
    "version": 3
   },
   "file_extension": ".py",
   "mimetype": "text/x-python",
   "name": "python",
   "nbconvert_exporter": "python",
   "pygments_lexer": "ipython3",
   "version": "3.10.11"
  }
 },
 "nbformat": 4,
 "nbformat_minor": 2
}
