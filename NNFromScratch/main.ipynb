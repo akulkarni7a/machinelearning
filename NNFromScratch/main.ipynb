{
 "cells": [
  {
   "cell_type": "code",
   "execution_count": 10,
   "metadata": {},
   "outputs": [],
   "source": [
    "import numpy as np\n",
    "import nnfs\n",
    "from nnfs.datasets import spiral_data\n",
    "\n",
    "nnfs.init()\n",
    "\n",
    "#dense layer\n",
    "class Layer_Dense:\n",
    "\n",
    "    #layer initialization\n",
    "    def __init__(self,n_inputs,n_neurons):\n",
    "        #initialize weights and biases\n",
    "        self.weights = 0.01 * np.random.randn(n_inputs, n_neurons)\n",
    "        self.biases = np.zeros((1,n_neurons))\n",
    "\n",
    "    #forward pass\n",
    "    def forward(self,inputs):\n",
    "        #calculate output values from inputs, weights, and biases\n",
    "        self.output = np.dot(inputs,self.weights) + self.biases\n",
    "\n",
    "class Activation_ReLU:\n",
    "\n",
    "    #forward pass\n",
    "    def forward(self,inputs):\n",
    "        #calculate output values from input\n",
    "        self.output = np.maximum(0,inputs)\n",
    "\n",
    "class Activation_Softmax:\n",
    "\n",
    "    #forward pass\n",
    "    def forward(self,inputs):\n",
    "        #get unnormalized probabilities\n",
    "        exp_values = np.exp(inputs - np.max(inputs,axis=1,keepdims=True))\n",
    "        #normalize them\n",
    "        probabilities = exp_values / np.sum(exp_values,axis=1,keepdims=True)\n",
    "\n",
    "        self.output = probabilities\n",
    "\n",
    "class Loss:\n",
    "\n",
    "    #calculates the data and regularization losses given model output and ground truth values\n",
    "    def calculate(self,output,y):\n",
    "\n",
    "        #calculate sample losses\n",
    "        sample_losses = self.forward(output,y)\n",
    "\n",
    "        #calculate mean loss\n",
    "        data_loss = np.mean(sample_losses)\n",
    "\n",
    "        #return loss\n",
    "        return data_loss\n",
    "    \n",
    "class Loss_CategoricalCrossEntropy(Loss):\n",
    "\n",
    "    def forward(self,y_pred,y_true):\n",
    "        #number of samples in a batch\n",
    "        samples = len(y_pred)\n",
    "\n",
    "        #clip data to prevent division by 0\n",
    "        #clip both sides to not drag mean towards any value\n",
    "        y_pred_clipped = np.clip(y_pred,1e-7,1-1e-7)\n",
    "\n",
    "        #probabilities for target values - onkly if categorical labels\n",
    "        if len(y_true.shape) == 1:\n",
    "            correct_confidences = y_pred_clipped[\n",
    "                range(samples),\n",
    "                y_true\n",
    "            ]\n",
    "        #mask values - only for one-hot encoded labels\n",
    "        elif len(y_true.shape) == 2:\n",
    "            correct_confidences = np.sum(y_pred_clipped*y_true,axis = 1)\n",
    "        \n",
    "        #losses\n",
    "        negative_log_likelihood = -np.log(correct_confidences)\n",
    "        return negative_log_likelihood"
   ]
  },
  {
   "cell_type": "code",
   "execution_count": 12,
   "metadata": {},
   "outputs": [
    {
     "name": "stdout",
     "output_type": "stream",
     "text": [
      "[[0.33333334 0.33333334 0.33333334]\n",
      " [0.33333355 0.3333332  0.3333332 ]\n",
      " [0.33333382 0.33333313 0.3333331 ]\n",
      " [0.3333341  0.33333302 0.33333296]\n",
      " [0.33333433 0.3333329  0.33333278]]\n",
      "loss: 1.0986081\n"
     ]
    }
   ],
   "source": [
    "#create dataset\n",
    "X, y = spiral_data(samples=100,classes=3)\n",
    "\n",
    "#create dense layer with 2 input features and 3 output values\n",
    "dense1 = Layer_Dense(2,3)\n",
    "\n",
    "#create ReLU activation\n",
    "activation1 = Activation_ReLU()\n",
    "\n",
    "#create second dense layer with 3 input features (as we take output of previous layer here) and 3 output values\n",
    "dense2 = Layer_Dense(3,3)\n",
    "\n",
    "#create softmax activation (to be used with dense layer):\n",
    "activation2 = Activation_Softmax()\n",
    "\n",
    "#create loss function\n",
    "loss_function = Loss_CategoricalCrossEntropy()\n",
    "\n",
    "#make forward pass of our training data through this layer\n",
    "dense1.forward(X)\n",
    "\n",
    "#make forward pass through activation\n",
    "activation1.forward(dense1.output)\n",
    "\n",
    "#make forward pass through second dense layer\n",
    "dense2.forward(activation1.output)\n",
    "\n",
    "activation2.forward(dense2.output)\n",
    "print(activation2.output[:5])\n",
    "\n",
    "loss = loss_function.calculate(activation2.output,y)\n",
    "print('loss:',loss)"
   ]
  },
  {
   "cell_type": "code",
   "execution_count": 9,
   "metadata": {},
   "outputs": [
    {
     "name": "stdout",
     "output_type": "stream",
     "text": [
      "0.38506088005216804\n"
     ]
    }
   ],
   "source": [
    "softmax_output = np.array([[0.7,0.1,0.2],\n",
    "                  [0.1,0.5,0.4],\n",
    "                  [0.02,0.9,0.08]])\n",
    "class_targets = np.array([0,1,1])\n",
    "\n",
    "loss_function = Loss_CategoricalCrossEntropy()\n",
    "loss = loss_function.calculate(softmax_output,class_targets)\n",
    "print(loss)"
   ]
  },
  {
   "cell_type": "code",
   "execution_count": null,
   "metadata": {},
   "outputs": [],
   "source": []
  }
 ],
 "metadata": {
  "kernelspec": {
   "display_name": ".venv",
   "language": "python",
   "name": "python3"
  },
  "language_info": {
   "codemirror_mode": {
    "name": "ipython",
    "version": 3
   },
   "file_extension": ".py",
   "mimetype": "text/x-python",
   "name": "python",
   "nbconvert_exporter": "python",
   "pygments_lexer": "ipython3",
   "version": "3.10.11"
  }
 },
 "nbformat": 4,
 "nbformat_minor": 2
}
