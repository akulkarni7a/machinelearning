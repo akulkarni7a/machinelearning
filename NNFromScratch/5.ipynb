{
 "cells": [
  {
   "cell_type": "code",
   "execution_count": 1,
   "metadata": {},
   "outputs": [
    {
     "name": "stdout",
     "output_type": "stream",
     "text": [
      "0.35667494393873245\n"
     ]
    }
   ],
   "source": [
    "import math\n",
    "\n",
    "softmax_output = [0.7,0.1,0.2]\n",
    "target_output = [1,0,0]\n",
    "\n",
    "loss = -(math.log(softmax_output[0])*target_output[0]+\n",
    "         math.log(softmax_output[1])*target_output[1]+\n",
    "         math.log(softmax_output[2])*target_output[2]\n",
    "         )\n",
    "print(loss)"
   ]
  },
  {
   "cell_type": "code",
   "execution_count": 16,
   "metadata": {},
   "outputs": [
    {
     "name": "stdout",
     "output_type": "stream",
     "text": [
      "0.38506088005216804\n"
     ]
    }
   ],
   "source": [
    "import numpy as np\n",
    "softmax_output = np.array([[0.7,0.1,0.2],\n",
    "                  [0.1,0.5,0.4],\n",
    "                  [0.02,0.9,0.08]])\n",
    "class_targets = np.array([0,1,1])\n",
    "\n",
    "#probabilities for target values - onkly if categorical labels\n",
    "if len(class_targets.shape) == 1:\n",
    "    correct_confidences = softmax_output[\n",
    "        range(len(softmax_output)),\n",
    "        class_targets\n",
    "    ]\n",
    "#mask values - only for one-hot encoded labels\n",
    "elif len(class_targets.shape) == 2:\n",
    "    correct_confidences = np.sum(softmax_output*class_targets,axis = 1)\n",
    "\n",
    "#losses\n",
    "neg_log = -np.log(correct_confidences)\n",
    "average_loss = np.mean(neg_log)\n",
    "print(average_loss)"
   ]
  },
  {
   "cell_type": "code",
   "execution_count": 15,
   "metadata": {},
   "outputs": [
    {
     "data": {
      "text/plain": [
       "(3,)"
      ]
     },
     "execution_count": 15,
     "metadata": {},
     "output_type": "execute_result"
    }
   ],
   "source": [
    "class_targets = np.array([0,1,1])\n",
    "class_targets.shape"
   ]
  },
  {
   "cell_type": "code",
   "execution_count": 10,
   "metadata": {},
   "outputs": [
    {
     "name": "stdout",
     "output_type": "stream",
     "text": [
      "[[0.7 0.5 0.5]]\n"
     ]
    }
   ],
   "source": [
    "print(softmax_output[[class_targets],class_targets])"
   ]
  },
  {
   "cell_type": "code",
   "execution_count": 11,
   "metadata": {},
   "outputs": [
    {
     "name": "stdout",
     "output_type": "stream",
     "text": [
      "[0.7 0.5 0.9]\n"
     ]
    }
   ],
   "source": [
    "print(softmax_output[range(len(softmax_output)),class_targets])"
   ]
  },
  {
   "cell_type": "code",
   "execution_count": 12,
   "metadata": {},
   "outputs": [
    {
     "name": "stdout",
     "output_type": "stream",
     "text": [
      "[0.35667494 0.69314718 0.10536052]\n"
     ]
    }
   ],
   "source": [
    "print(-np.log(softmax_output[range(len(softmax_output)),class_targets]))"
   ]
  },
  {
   "cell_type": "code",
   "execution_count": 13,
   "metadata": {},
   "outputs": [
    {
     "name": "stdout",
     "output_type": "stream",
     "text": [
      "0.38506088005216804\n"
     ]
    }
   ],
   "source": [
    "neg_loss = -np.log(softmax_output[range(len(softmax_output)),class_targets])\n",
    "average_loss = np.mean(neg_loss)\n",
    "print(average_loss)"
   ]
  },
  {
   "cell_type": "code",
   "execution_count": 17,
   "metadata": {},
   "outputs": [],
   "source": [
    "#accuracy\n",
    "import numpy as np\n",
    "\n",
    "#probabilities of 3 samples\n",
    "softmax_outputs = np.array([[0.7,0.1,0.2],\n",
    "                  [0.1,0.5,0.4],\n",
    "                  [0.02,0.9,0.08]])\n",
    "class_targets = np.array([0,1,1])\n",
    "\n",
    "predictions = np.argmax(softmax_outputs,axis=1)"
   ]
  },
  {
   "cell_type": "code",
   "execution_count": 18,
   "metadata": {},
   "outputs": [
    {
     "data": {
      "text/plain": [
       "array([0, 1, 1])"
      ]
     },
     "execution_count": 18,
     "metadata": {},
     "output_type": "execute_result"
    }
   ],
   "source": [
    "predictions"
   ]
  },
  {
   "cell_type": "code",
   "execution_count": null,
   "metadata": {},
   "outputs": [],
   "source": []
  }
 ],
 "metadata": {
  "kernelspec": {
   "display_name": ".venv",
   "language": "python",
   "name": "python3"
  },
  "language_info": {
   "codemirror_mode": {
    "name": "ipython",
    "version": 3
   },
   "file_extension": ".py",
   "mimetype": "text/x-python",
   "name": "python",
   "nbconvert_exporter": "python",
   "pygments_lexer": "ipython3",
   "version": "3.10.11"
  }
 },
 "nbformat": 4,
 "nbformat_minor": 2
}
