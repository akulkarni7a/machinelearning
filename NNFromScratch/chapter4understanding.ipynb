{
 "cells": [
  {
   "cell_type": "code",
   "execution_count": null,
   "metadata": {},
   "outputs": [],
   "source": [
    "# create the actual weights and biases\n",
    "# relu activation function\n",
    "# softmax activation function\n",
    "import numpy as np\n",
    "\n",
    "class createNetwork:\n",
    "\n",
    "    def __init__(self,inputs, n_neurons):\n",
    "        self.neurons = n_neurons\n",
    "        self.weights = np.random.rand(n_neurons, inputs)   # per neuron, length of input (why )\n",
    "        self.biases = np.zeroes(n_neurons)\n",
    "\n",
    "    def forward():\n",
    "        #we take each of the inputs, multiply the weights and add a bias\n",
    "        #???\n",
    "        pass\n",
    "\n",
    "class ReLU:\n",
    "\n",
    "    def __init__(input) -> None:\n",
    "        self.value = np.maximum(0,input)\n",
    "        #what's the input?? basically we take the maximum of 0,input\n",
    "\n",
    "class softmax:\n",
    "\n",
    "    def __init__(input_vector) -> None:\n",
    "        expValues = np.exp(input_vector) #how do I subtract the max value?\n",
    "        self.finalValues = expValues/np.sum(expValues)\n",
    "\n",
    "#Open Questions\n",
    "#1. Why is a weight of length input? If it's just per neuron? For a given neuron, are there different weight values depending on the input value?"
   ]
  }
 ],
 "metadata": {
  "language_info": {
   "name": "python"
  }
 },
 "nbformat": 4,
 "nbformat_minor": 2
}
