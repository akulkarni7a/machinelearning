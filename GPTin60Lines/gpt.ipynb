{
 "cells": [
  {
   "cell_type": "markdown",
   "metadata": {},
   "source": []
  },
  {
   "cell_type": "markdown",
   "metadata": {},
   "source": [
    "From : https://jaykmody.com/blog/gpt-from-scratch/\n",
    "\n",
    "General Terms:\n",
    "1. Greedy Sampling - picking the highest probability as our prediction \n",
    "2. Autoregressive - process of predicting a future value (regression) and adding it back into the input (auto) = autogressive\n",
    "3. Stochasticity (Randomness) - we can add randomness by sampling from the probability distribution instead of being random. This allows us to generate different sentences given the same input. When combined with techniques like top-k, top-p, and temperature, which modify the distribution prior to sampling, the quality of our outputs is greatly increased.\n",
    "4. Top K - [sample](https://docs.cohere.com/docs/controlling-generation-with-top-k-top-p#2-pick-from-amongst-the-top-tokens-top-k) from a shortlist of k tokens. Top-k of 1 is greedy\n",
    "5. [Top P](https://docs.cohere.com/docs/controlling-generation-with-top-k-top-p#3-pick-from-amongst-the-top-tokens-whose-probabilities-add-up-to-15-top-p) - creates the shortlist by selecting the top tokens whose sum of likelihoods does not exceed a certain value\n"
   ]
  },
  {
   "cell_type": "code",
   "execution_count": null,
   "metadata": {},
   "outputs": [],
   "source": []
  }
 ],
 "metadata": {
  "language_info": {
   "name": "python"
  }
 },
 "nbformat": 4,
 "nbformat_minor": 2
}
